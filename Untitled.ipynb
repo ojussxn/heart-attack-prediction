{
 "cells": [
  {
   "cell_type": "code",
   "execution_count": 15,
   "metadata": {},
   "outputs": [
    {
     "name": "stdout",
     "output_type": "stream",
     "text": [
      "{'results': {'results': 1}}\n"
     ]
    }
   ],
   "source": [
    "import requests\n",
    "import json\n",
    "url = 'https://heart-attack-flask-model.herokuapp.com/'\n",
    "data = {'age': 37.0,\n",
    " 'sex': 1.0,\n",
    " 'cp': 2.0,\n",
    " 'trestbps': 130.0,\n",
    " 'chol': 250.0,\n",
    " 'fbs': 0.0,\n",
    " 'restecg': 1.0,\n",
    " 'thalach': 187.0,\n",
    " 'exang': 0.0,\n",
    " 'oldpeak': 3.5,\n",
    " 'slope': 0.0,\n",
    " 'ca': 0.0,\n",
    " 'thal': 2.0}\n",
    "data = json.dumps(data)\n",
    "send_request = requests.post(url,data)\n",
    "print(send_request.json())"
   ]
  }
 ],
 "metadata": {
  "kernelspec": {
   "display_name": "Python 3",
   "language": "python",
   "name": "python3"
  },
  "language_info": {
   "codemirror_mode": {
    "name": "ipython",
    "version": 3
   },
   "file_extension": ".py",
   "mimetype": "text/x-python",
   "name": "python",
   "nbconvert_exporter": "python",
   "pygments_lexer": "ipython3",
   "version": "3.7.4"
  }
 },
 "nbformat": 4,
 "nbformat_minor": 2
}
